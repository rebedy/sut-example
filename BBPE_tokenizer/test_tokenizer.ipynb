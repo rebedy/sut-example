{
 "cells": [
  {
   "cell_type": "code",
   "execution_count": 3,
   "source": [
    " # Here’s how you can use it in tokenizers, including handling the RoBERTa special tokens – of course, you’ll also be able to use it directly from transformers.\n",
    "from tokenizers.implementations import ByteLevelBPETokenizer\n",
    "from tokenizers.processors import BertProcessing # This post-processor takes care of adding the special tokens needed by a Bert model: a [EOS] token and a [SOS] token\n",
    "import torch\n",
    "tokenizer = ByteLevelBPETokenizer(\n",
    "    \"./vocab.json\",\n",
    "    \"./merges.txt\",\n",
    ")\n",
    "tokenizer._tokenizer.post_processor = BertProcessing(\n",
    "    (\"[EOS]\", tokenizer.token_to_id(\"[EOS]\")),\n",
    "    (\"[SOS]\", tokenizer.token_to_id(\"[SOS]\"))\n",
    ")\n",
    "\n",
    "tokenizer.enable_truncation(max_length=60)  # max_length: [SOS]와 [EOS]를 합친 최종길이의 최대값\n",
    "tokenizer.enable_padding(pad_id=tokenizer.token_to_id(\"[PAD]\"), pad_token=\"[PAD]\", length=60)\n",
    "\n",
    "# checking\n",
    "text = \"findings: Lung volumes are low.  Retrocardiac opacity with silhouetting of the left hemidiaphragm and lateral border of the descending aorta is nonspecific and could reflect any of a combination of atelectasis, focal pneumonia or even a small effusion.\".lower()\n",
    "print(text)\n",
    "print('\\n')\n",
    "print(tokenizer.encode(text).tokens)\n",
    "print('\\n')\n",
    "print(tokenizer.encode(text).ids)"
   ],
   "outputs": [
    {
     "output_type": "stream",
     "name": "stdout",
     "text": [
      "findings: lung volumes are low.  retrocardiac opacity with silhouetting of the left hemidiaphragm and lateral border of the descending aorta is nonspecific and could reflect any of a combination of atelectasis, focal pneumonia or even a small effusion.\n",
      "\n",
      "\n",
      "['[SOS]', 'findings', ':', 'Ġlung', 'Ġvolumes', 'Ġare', 'Ġlow', '.', 'Ġ', 'Ġretrocardiac', 'Ġopacity', 'Ġwith', 'Ġsilhouetting', 'Ġof', 'Ġthe', 'Ġleft', 'Ġhemidiaphragm', 'Ġand', 'Ġlateral', 'Ġborder', 'Ġof', 'Ġthe', 'Ġdescending', 'Ġaorta', 'Ġis', 'Ġnonspecific', 'Ġand', 'Ġcould', 'Ġreflect', 'Ġany', 'Ġof', 'Ġa', 'Ġcombination', 'Ġof', 'Ġatelectasis', ',', 'Ġfocal', 'Ġpneumonia', 'Ġor', 'Ġeven', 'Ġa', 'Ġsmall', 'Ġeffusion', '.', '[EOS]', '[PAD]', '[PAD]', '[PAD]', '[PAD]', '[PAD]', '[PAD]', '[PAD]', '[PAD]', '[PAD]', '[PAD]', '[PAD]', '[PAD]', '[PAD]', '[PAD]', '[PAD]']\n",
      "\n",
      "\n",
      "[1, 372, 30, 346, 575, 315, 422, 18, 225, 839, 549, 337, 2654, 299, 269, 356, 758, 312, 535, 1101, 299, 269, 1653, 799, 284, 2553, 312, 746, 945, 1343, 299, 264, 1443, 299, 429, 16, 491, 486, 380, 2359, 264, 514, 371, 18, 2, 0, 0, 0, 0, 0, 0, 0, 0, 0, 0, 0, 0, 0, 0, 0]\n"
     ]
    }
   ],
   "metadata": {}
  },
  {
   "cell_type": "code",
   "execution_count": 6,
   "source": [
    "tokenizer.add_special_tokens([\"[PAD]\", \"[SOS]\", \"[EOS]\", \"[SEP]\", \"[MASK]\"])\n",
    "target = [1, 372, 30, 346, 575, 315, 422, 18, 225, 839, 549, 337, 2654, 299, 269, 356, 758, 312, 535, 1101, 299, 269, 1653, 799, 284, 2553, 312, 746, 945, 1343, 299, 264, 1443, 299, 429, 16, 491, 486, 380, 2359, 264, 514, 371, 18, 2, 0, 0, 0, 0, 0, 0, 0, 0, 0, 0, 0, 0, 0, 0, 0]\n",
    "# 반드시 리스트로 넣어줘야 함\n",
    "decoded_text = tokenizer.decode(target, skip_special_tokens=True)"
   ],
   "outputs": [],
   "metadata": {}
  },
  {
   "cell_type": "code",
   "execution_count": 8,
   "source": [
    "decoded_text.split(' ')"
   ],
   "outputs": [
    {
     "output_type": "execute_result",
     "data": {
      "text/plain": [
       "['findings:',\n",
       " 'lung',\n",
       " 'volumes',\n",
       " 'are',\n",
       " 'low.',\n",
       " '',\n",
       " 'retrocardiac',\n",
       " 'opacity',\n",
       " 'with',\n",
       " 'silhouetting',\n",
       " 'of',\n",
       " 'the',\n",
       " 'left',\n",
       " 'hemidiaphragm',\n",
       " 'and',\n",
       " 'lateral',\n",
       " 'border',\n",
       " 'of',\n",
       " 'the',\n",
       " 'descending',\n",
       " 'aorta',\n",
       " 'is',\n",
       " 'nonspecific',\n",
       " 'and',\n",
       " 'could',\n",
       " 'reflect',\n",
       " 'any',\n",
       " 'of',\n",
       " 'a',\n",
       " 'combination',\n",
       " 'of',\n",
       " 'atelectasis,',\n",
       " 'focal',\n",
       " 'pneumonia',\n",
       " 'or',\n",
       " 'even',\n",
       " 'a',\n",
       " 'small',\n",
       " 'effusion.']"
      ]
     },
     "metadata": {},
     "execution_count": 8
    }
   ],
   "metadata": {}
  },
  {
   "cell_type": "code",
   "execution_count": 2,
   "source": [
    "tokenizer.get_vocab_size()"
   ],
   "outputs": [
    {
     "output_type": "execute_result",
     "data": {
      "text/plain": [
       "14526"
      ]
     },
     "metadata": {},
     "execution_count": 2
    }
   ],
   "metadata": {}
  },
  {
   "cell_type": "code",
   "execution_count": 23,
   "source": [
    "from transformers import BertTokenizer\n",
    "tokenizer = BertTokenizer.from_pretrained(\"bert-base-uncased\")\n",
    "print(tokenizer.tokenize(text))"
   ],
   "outputs": [
    {
     "output_type": "stream",
     "name": "stdout",
     "text": [
      "['findings', ':', 'lung', 'volumes', 'are', 'low', '.', 'retro', '##card', '##iac', 'op', '##ac', '##ity', 'with', 'si', '##lho', '##uet', '##ting', 'of', 'the', 'left', 'hem', '##idia', '##ph', '##rag', '##m', 'and', 'lateral', 'border', 'of', 'the', 'descending', 'ao', '##rta', 'is', 'non', '##sp', '##ec', '##ific', 'and', 'could', 'reflect', 'any', 'of', 'a', 'combination', 'of', 'ate', '##le', '##cta', '##sis', ',', 'focal', 'pneumonia', 'or', 'even', 'a', 'small', 'e', '##ff', '##usion', '.']\n"
     ]
    }
   ],
   "metadata": {}
  },
  {
   "cell_type": "markdown",
   "source": [
    "# Statistics"
   ],
   "metadata": {}
  },
  {
   "cell_type": "code",
   "execution_count": null,
   "source": [
    "# tokenizer에 [SOS] [EOS]붙이는 프로세스 제거 후 진행하기"
   ],
   "outputs": [],
   "metadata": {}
  },
  {
   "cell_type": "code",
   "execution_count": 6,
   "source": [
    "from pathlib import Path"
   ],
   "outputs": [],
   "metadata": {}
  },
  {
   "cell_type": "code",
   "execution_count": 7,
   "source": [
    "root = Path('/home/edlab/wcshin/physionet.org/files/mimic-cxr-jpg/2.0.0/preprocessed_reports')\n",
    "report_path = [str(path) for path in root.glob(\"**/*.txt\")]"
   ],
   "outputs": [],
   "metadata": {}
  },
  {
   "cell_type": "code",
   "execution_count": 8,
   "source": [
    "len(report_path)"
   ],
   "outputs": [
    {
     "output_type": "execute_result",
     "data": {
      "text/plain": [
       "217245"
      ]
     },
     "metadata": {},
     "execution_count": 8
    }
   ],
   "metadata": {}
  },
  {
   "cell_type": "code",
   "execution_count": 9,
   "source": [
    "ids_len_list = []\n",
    "for path in report_path:\n",
    "    with open(path, 'r') as f:\n",
    "        data = f.read()\n",
    "    src = data.replace('  ', ' ').replace('  ', ' ').lower()\n",
    "    ids_list = tokenizer.encode(src).ids\n",
    "    ids_len_list.append(len(ids_list))"
   ],
   "outputs": [],
   "metadata": {}
  },
  {
   "cell_type": "code",
   "execution_count": 10,
   "source": [
    "import matplotlib.pyplot as plt\n",
    "plt.hist(ids_len_list, bins=30)"
   ],
   "outputs": [
    {
     "output_type": "execute_result",
     "data": {
      "text/plain": [
       "(array([2.9780e+03, 1.8081e+04, 5.1701e+04, 5.3113e+04, 3.5922e+04,\n",
       "        2.2766e+04, 1.4420e+04, 7.8960e+03, 4.3630e+03, 2.5620e+03,\n",
       "        1.3900e+03, 8.1100e+02, 4.8800e+02, 2.4300e+02, 1.8800e+02,\n",
       "        1.3000e+02, 7.2000e+01, 3.6000e+01, 4.0000e+01, 1.7000e+01,\n",
       "        1.2000e+01, 5.0000e+00, 1.0000e+00, 6.0000e+00, 1.0000e+00,\n",
       "        1.0000e+00, 0.0000e+00, 0.0000e+00, 0.0000e+00, 2.0000e+00]),\n",
       " array([  3.        ,  19.33333333,  35.66666667,  52.        ,\n",
       "         68.33333333,  84.66666667, 101.        , 117.33333333,\n",
       "        133.66666667, 150.        , 166.33333333, 182.66666667,\n",
       "        199.        , 215.33333333, 231.66666667, 248.        ,\n",
       "        264.33333333, 280.66666667, 297.        , 313.33333333,\n",
       "        329.66666667, 346.        , 362.33333333, 378.66666667,\n",
       "        395.        , 411.33333333, 427.66666667, 444.        ,\n",
       "        460.33333333, 476.66666667, 493.        ]),\n",
       " <BarContainer object of 30 artists>)"
      ]
     },
     "metadata": {},
     "execution_count": 10
    },
    {
     "output_type": "display_data",
     "data": {
      "image/png": "[encoded data removed]",
      "text/plain": [
       "<Figure size 432x288 with 1 Axes>"
      ]
     },
     "metadata": {
      "needs_background": "light"
     }
    }
   ],
   "metadata": {}
  },
  {
   "cell_type": "code",
   "execution_count": 11,
   "source": [
    "print(\"min:\", min(ids_len_list))\n",
    "print(\"max:\", max(ids_len_list))"
   ],
   "outputs": [
    {
     "output_type": "stream",
     "name": "stdout",
     "text": [
      "min: 3\n",
      "max: 493\n"
     ]
    }
   ],
   "metadata": {}
  },
  {
   "cell_type": "code",
   "execution_count": 12,
   "source": [
    "for i, length in enumerate(ids_len_list):\n",
    "    if length == 3:\n",
    "        print(i)"
   ],
   "outputs": [
    {
     "output_type": "stream",
     "name": "stdout",
     "text": [
      "24032\n",
      "106596\n",
      "157163\n",
      "165384\n",
      "165761\n",
      "191079\n",
      "212982\n"
     ]
    }
   ],
   "metadata": {}
  },
  {
   "cell_type": "code",
   "execution_count": 13,
   "source": [
    "with open(report_path[24032], 'r') as f:\n",
    "    data = f.read()"
   ],
   "outputs": [],
   "metadata": {}
  },
  {
   "cell_type": "code",
   "execution_count": 14,
   "source": [
    "data"
   ],
   "outputs": [
    {
     "output_type": "execute_result",
     "data": {
      "text/plain": [
       "'impressions: ___.'"
      ]
     },
     "metadata": {},
     "execution_count": 14
    }
   ],
   "metadata": {}
  },
  {
   "cell_type": "code",
   "execution_count": 15,
   "source": [
    "report_path[24032]"
   ],
   "outputs": [
    {
     "output_type": "execute_result",
     "data": {
      "text/plain": [
       "'/home/edlab/wcshin/physionet.org/files/mimic-cxr-jpg/2.0.0/preprocessed_reports/s58052703.txt'"
      ]
     },
     "metadata": {},
     "execution_count": 15
    }
   ],
   "metadata": {}
  },
  {
   "cell_type": "code",
   "execution_count": 15,
   "source": [
    "tokenizer.encode(data).tokens"
   ],
   "outputs": [
    {
     "output_type": "execute_result",
     "data": {
      "text/plain": [
       "['impressions', ':', 'Ġ___.']"
      ]
     },
     "metadata": {},
     "execution_count": 15
    }
   ],
   "metadata": {}
  },
  {
   "cell_type": "code",
   "execution_count": 20,
   "source": [
    "tokenizer.encode('___').ids"
   ],
   "outputs": [
    {
     "output_type": "execute_result",
     "data": {
      "text/plain": [
       "[414]"
      ]
     },
     "metadata": {},
     "execution_count": 20
    }
   ],
   "metadata": {}
  },
  {
   "cell_type": "code",
   "execution_count": 21,
   "source": [
    "tokenizer.encode('___,').ids"
   ],
   "outputs": [
    {
     "output_type": "execute_result",
     "data": {
      "text/plain": [
       "[10727]"
      ]
     },
     "metadata": {},
     "execution_count": 21
    }
   ],
   "metadata": {}
  },
  {
   "cell_type": "code",
   "execution_count": 22,
   "source": [
    "tokenizer.encode('___.').ids"
   ],
   "outputs": [
    {
     "output_type": "execute_result",
     "data": {
      "text/plain": [
       "[7677]"
      ]
     },
     "metadata": {},
     "execution_count": 22
    }
   ],
   "metadata": {}
  },
  {
   "cell_type": "code",
   "execution_count": 23,
   "source": [
    "tokenizer.encode(' ___').ids"
   ],
   "outputs": [
    {
     "output_type": "execute_result",
     "data": {
      "text/plain": [
       "[415]"
      ]
     },
     "metadata": {},
     "execution_count": 23
    }
   ],
   "metadata": {}
  },
  {
   "cell_type": "code",
   "execution_count": 24,
   "source": [
    "tokenizer.encode(' ___,').ids"
   ],
   "outputs": [
    {
     "output_type": "execute_result",
     "data": {
      "text/plain": [
       "[677]"
      ]
     },
     "metadata": {},
     "execution_count": 24
    }
   ],
   "metadata": {}
  },
  {
   "cell_type": "code",
   "execution_count": 25,
   "source": [
    "tokenizer.encode(' ___.').ids"
   ],
   "outputs": [
    {
     "output_type": "execute_result",
     "data": {
      "text/plain": [
       "[636]"
      ]
     },
     "metadata": {},
     "execution_count": 25
    }
   ],
   "metadata": {}
  },
  {
   "cell_type": "code",
   "execution_count": null,
   "source": [],
   "outputs": [],
   "metadata": {}
  }
 ],
 "metadata": {
  "interpreter": {
   "hash": "003ebc954f4e4337eacc31d962c11c22edc103fba8027d5d52b90e69ce733dc1"
  },
  "kernelspec": {
   "name": "python3",
   "display_name": "Python 3.8.10 64-bit ('performer': conda)"
  },
  "language_info": {
   "codemirror_mode": {
    "name": "ipython",
    "version": 3
   },
   "file_extension": ".py",
   "mimetype": "text/x-python",
   "name": "python",
   "nbconvert_exporter": "python",
   "pygments_lexer": "ipython3",
   "version": "3.8.10"
  },
  "orig_nbformat": 4
 },
 "nbformat": 4,
 "nbformat_minor": 2
}