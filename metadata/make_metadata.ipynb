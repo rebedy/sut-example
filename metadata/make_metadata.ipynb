{
 "cells": [
  {
   "cell_type": "markdown",
   "metadata": {},
   "source": [
    "# Make original set"
   ]
  },
  {
   "cell_type": "code",
   "execution_count": 11,
   "metadata": {},
   "outputs": [],
   "source": [
    "from pathlib import Path\n",
    "import csv\n",
    "from tqdm import tqdm"
   ]
  },
  {
   "cell_type": "code",
   "execution_count": 12,
   "metadata": {},
   "outputs": [],
   "source": [
    "root = Path('/ho\n",
    "            /physionet.org/files/mimic-cxr-jpg/2.0.0')\n",
    "split_file_dir = root / 'mimic-cxr-2.0.0-split.csv'\n",
    "metadata_file_dir = root / 'mimic-cxr-2.0.0-metadata.csv'"
   ]
  },
  {
   "cell_type": "code",
   "execution_count": 13,
   "metadata": {},
   "outputs": [
    {
     "data": {
      "text/plain": [
       "'/home/edlab/wcshin/physionet.org/files/mimic-cxr-jpg/2.0.0/mimic-cxr-2.0.0-metadata.csv'"
      ]
     },
     "execution_count": 13,
     "metadata": {},
     "output_type": "execute_result"
    }
   ],
   "source": [
    "str(metadata_file_dir)"
   ]
  },
  {
   "cell_type": "code",
   "execution_count": 14,
   "metadata": {},
   "outputs": [
    {
     "name": "stdout",
     "output_type": "stream",
     "text": [
      "['dicom_id', 'study_id', 'subject_id', 'split']\n"
     ]
    }
   ],
   "source": [
    "# The dataset contains 377,110 JPG format images\n",
    "f = open(str(split_file_dir), 'r')\n",
    "rdr = csv.reader(f)\n",
    "\n",
    "dicomid_trainset = []\n",
    "dicomid_valset = []\n",
    "dicomid_testset = []\n",
    "dicomid_others = []\n",
    "num = 0\n",
    "for i, line in enumerate(rdr):\n",
    "    if i == 0: \n",
    "        print(line)\n",
    "        continue\n",
    "    subject_id = line[2]\n",
    "    study_id = line[1]\n",
    "    dicom_id = line[0]\n",
    "    split = line[3]\n",
    "\n",
    "    if split == 'train':\n",
    "        dicomid_trainset.append(\n",
    "            dicom_id\n",
    "        )\n",
    "    elif split == 'validate':\n",
    "        dicomid_valset.append(\n",
    "            dicom_id\n",
    "        )\n",
    "    elif split == 'test':\n",
    "        dicomid_testset.append(\n",
    "            dicom_id\n",
    "        )\n",
    "    else: \n",
    "        dicomid_others.append(\n",
    "            line\n",
    "        )\n",
    "    num = num + 1\n",
    "f.close()"
   ]
  },
  {
   "cell_type": "code",
   "execution_count": 15,
   "metadata": {},
   "outputs": [
    {
     "data": {
      "text/plain": [
       "True"
      ]
     },
     "execution_count": 15,
     "metadata": {},
     "output_type": "execute_result"
    }
   ],
   "source": [
    "num == (len(dicomid_trainset) + len(dicomid_valset) + len(dicomid_testset))"
   ]
  },
  {
   "cell_type": "code",
   "execution_count": 16,
   "metadata": {},
   "outputs": [
    {
     "name": "stderr",
     "output_type": "stream",
     "text": [
      "1463it [00:00, 7546.99it/s]"
     ]
    },
    {
     "name": "stdout",
     "output_type": "stream",
     "text": [
      "['dicom_id', 'subject_id', 'study_id', 'PerformedProcedureStepDescription', 'ViewPosition', 'Rows', 'Columns', 'StudyDate', 'StudyTime', 'ProcedureCodeSequence_CodeMeaning', 'ViewCodeSequence_CodeMeaning', 'PatientOrientationCodeSequence_CodeMeaning']\n"
     ]
    },
    {
     "name": "stderr",
     "output_type": "stream",
     "text": [
      "32494it [00:14, 997.83it/s] "
     ]
    }
   ],
   "source": [
    "# The dataset contains 377,110 JPG format images\n",
    "f = open(str(metadata_file_dir), 'r')\n",
    "rdr = csv.reader(f)\n",
    "\n",
    "trainset = []\n",
    "valset = []\n",
    "testset = []\n",
    "others = []\n",
    "\n",
    "for i, line in enumerate(tqdm(rdr)):\n",
    "    if i == 0: \n",
    "        print(line)\n",
    "        continue\n",
    "    dicom_id, subject_id, study_id, _, ViewPosition, *__ = line\n",
    "    if dicom_id in dicomid_trainset:\n",
    "        trainset.append(\n",
    "            [dicom_id, subject_id, study_id, ViewPosition]\n",
    "        )\n",
    "    elif dicom_id in dicomid_valset:\n",
    "        valset.append(\n",
    "            [dicom_id, subject_id, study_id, ViewPosition]\n",
    "        )\n",
    "    elif dicom_id in dicomid_testset:\n",
    "        testset.append(\n",
    "            [dicom_id, subject_id, study_id, ViewPosition]\n",
    "        )\n",
    "    else:\n",
    "        others.append(\n",
    "            [dicom_id, subject_id, study_id, ViewPosition]\n",
    "        )\n",
    "        \n",
    "f.close()"
   ]
  },
  {
   "cell_type": "code",
   "execution_count": null,
   "metadata": {},
   "outputs": [],
   "source": [
    "len(trainset)"
   ]
  },
  {
   "cell_type": "code",
   "execution_count": null,
   "metadata": {},
   "outputs": [
    {
     "data": {
      "text/plain": [
       "2991"
      ]
     },
     "execution_count": 58,
     "metadata": {},
     "output_type": "execute_result"
    }
   ],
   "source": [
    "len(valset)"
   ]
  },
  {
   "cell_type": "code",
   "execution_count": null,
   "metadata": {},
   "outputs": [
    {
     "data": {
      "text/plain": [
       "5159"
      ]
     },
     "execution_count": 59,
     "metadata": {},
     "output_type": "execute_result"
    }
   ],
   "source": [
    "len(testset)"
   ]
  },
  {
   "cell_type": "code",
   "execution_count": null,
   "metadata": {},
   "outputs": [
    {
     "data": {
      "text/plain": [
       "0"
      ]
     },
     "execution_count": 60,
     "metadata": {},
     "output_type": "execute_result"
    }
   ],
   "source": [
    "len(others)"
   ]
  },
  {
   "cell_type": "code",
   "execution_count": null,
   "metadata": {},
   "outputs": [],
   "source": [
    "f = open('mimiccxr_train.csv', 'w')\n",
    "wr = csv.writer(f)\n",
    "for rowlist in trainset:\n",
    "    wr.writerow(rowlist)\n",
    "f.close()"
   ]
  },
  {
   "cell_type": "code",
   "execution_count": null,
   "metadata": {},
   "outputs": [],
   "source": [
    "f = open('mimiccxr_validate.csv', 'w')\n",
    "wr = csv.writer(f)\n",
    "for rowlist in valset:\n",
    "    wr.writerow(rowlist)\n",
    "f.close()"
   ]
  },
  {
   "cell_type": "code",
   "execution_count": null,
   "metadata": {},
   "outputs": [],
   "source": [
    "f = open('mimiccxr_test.csv', 'w')\n",
    "wr = csv.writer(f)\n",
    "for rowlist in testset:\n",
    "    wr.writerow(rowlist)\n",
    "f.close()"
   ]
  },
  {
   "cell_type": "markdown",
   "metadata": {},
   "source": [
    "# Make sub set"
   ]
  },
  {
   "cell_type": "code",
   "execution_count": null,
   "metadata": {},
   "outputs": [],
   "source": [
    "root = Path('/home/edlab/wcshin/physionet.org/files/mimic-cxr-jpg/2.0.0/preprocessed_reports')"
   ]
  },
  {
   "cell_type": "code",
   "execution_count": null,
   "metadata": {},
   "outputs": [],
   "source": [
    "report_path = [str(path) for path in root.glob(\"**/*.txt\")]"
   ]
  },
  {
   "cell_type": "code",
   "execution_count": null,
   "metadata": {},
   "outputs": [
    {
     "data": {
      "text/plain": [
       "217245"
      ]
     },
     "execution_count": 6,
     "metadata": {},
     "output_type": "execute_result"
    }
   ],
   "source": [
    "len(report_path)"
   ]
  },
  {
   "cell_type": "code",
   "execution_count": null,
   "metadata": {},
   "outputs": [
    {
     "data": {
      "text/plain": [
       "'/home/edlab/wcshin/physionet.org/files/mimic-cxr-jpg/2.0.0/preprocessed_reports/s50414267.txt'"
      ]
     },
     "execution_count": 7,
     "metadata": {},
     "output_type": "execute_result"
    }
   ],
   "source": [
    "report_path[0]"
   ]
  },
  {
   "cell_type": "code",
   "execution_count": null,
   "metadata": {},
   "outputs": [
    {
     "data": {
      "text/plain": [
       "['',\n",
       " 'home',\n",
       " 'edlab',\n",
       " 'wcshin',\n",
       " 'physionet.org',\n",
       " 'files',\n",
       " 'mimic-cxr-jpg',\n",
       " '2.0.0',\n",
       " 'preprocessed_reports',\n",
       " 's50414267.txt']"
      ]
     },
     "execution_count": 8,
     "metadata": {},
     "output_type": "execute_result"
    }
   ],
   "source": [
    "report_path[0].split('/')"
   ]
  },
  {
   "cell_type": "code",
   "execution_count": null,
   "metadata": {},
   "outputs": [
    {
     "data": {
      "text/plain": [
       "'50414267'"
      ]
     },
     "execution_count": 10,
     "metadata": {},
     "output_type": "execute_result"
    }
   ],
   "source": [
    "report_path[0].split('/')[-1][1:-4]"
   ]
  },
  {
   "cell_type": "code",
   "execution_count": null,
   "metadata": {},
   "outputs": [],
   "source": [
    "study_id_in_report = []\n",
    "for path in report_path:\n",
    "    study_id = path.split('/')[-1][1:-4]\n",
    "    study_id_in_report.append(study_id)\n"
   ]
  },
  {
   "cell_type": "code",
   "execution_count": null,
   "metadata": {},
   "outputs": [
    {
     "data": {
      "text/plain": [
       "['50414267', '53189527', '53911762', '56699142', '57375967']"
      ]
     },
     "execution_count": 21,
     "metadata": {},
     "output_type": "execute_result"
    }
   ],
   "source": [
    "study_id_in_report[:5]"
   ]
  },
  {
   "cell_type": "code",
   "execution_count": null,
   "metadata": {},
   "outputs": [
    {
     "name": "stderr",
     "output_type": "stream",
     "text": [
      "368960it [00:00, 665981.43it/s]\n",
      "2991it [00:00, 697457.23it/s]\n",
      "5159it [00:00, 427645.10it/s]\n"
     ]
    }
   ],
   "source": [
    "# The dataset contains 377,110 JPG format images   # 원래 study_id 개수는, train: 222758, val: 1808, testset: 3269  = total 227835\n",
    "\n",
    "trainset = []\n",
    "valset = []\n",
    "testset = []\n",
    "\n",
    "f = open('mimiccxr_train.csv', 'r')\n",
    "rdr = csv.reader(f)\n",
    "for i, line in enumerate(tqdm(rdr)):\n",
    "    dicom_id, subject_id, study_id, ViewPosition = line\n",
    "    trainset.append(study_id)\n",
    "f.close()\n",
    "\n",
    "\n",
    "f = open('mimiccxr_validate.csv', 'r')\n",
    "rdr = csv.reader(f)\n",
    "for i, line in enumerate(tqdm(rdr)):\n",
    "    dicom_id, subject_id, study_id, ViewPosition = line\n",
    "    valset.append(study_id)\n",
    "f.close()\n",
    "\n",
    "\n",
    "f = open('mimiccxr_test.csv', 'r')\n",
    "rdr = csv.reader(f)\n",
    "for i, line in enumerate(tqdm(rdr)):\n",
    "    dicom_id, subject_id, study_id, ViewPosition = line\n",
    "    testset.append(study_id)\n",
    "f.close()"
   ]
  },
  {
   "cell_type": "code",
   "execution_count": null,
   "metadata": {},
   "outputs": [],
   "source": [
    "train_report_ids = []   # 212572개\n",
    "val_report_ids = []     # 1726개\n",
    "test_report_ids = []    # 2947개\n",
    "others_report_ids = []  # 0개\n",
    "for study_id in study_id_in_report:\n",
    "    if study_id in trainset:\n",
    "        train_report_ids.append(study_id)\n",
    "    elif study_id in valset:\n",
    "        val_report_ids.append(study_id)\n",
    "    elif study_id in testset:\n",
    "        test_report_ids.append(study_id)\n",
    "    else:\n",
    "        others_report_ids.append(study_id)\n",
    "# report는 총 217245개가 있는데, split을 나누면 212572개, 1726개, 2947개"
   ]
  },
  {
   "cell_type": "code",
   "execution_count": null,
   "metadata": {},
   "outputs": [
    {
     "data": {
      "text/plain": [
       "212572"
      ]
     },
     "execution_count": 27,
     "metadata": {},
     "output_type": "execute_result"
    }
   ],
   "source": [
    "len(train_report_ids)"
   ]
  },
  {
   "cell_type": "code",
   "execution_count": null,
   "metadata": {},
   "outputs": [
    {
     "data": {
      "text/plain": [
       "1726"
      ]
     },
     "execution_count": 28,
     "metadata": {},
     "output_type": "execute_result"
    }
   ],
   "source": [
    "len(val_report_ids)"
   ]
  },
  {
   "cell_type": "code",
   "execution_count": null,
   "metadata": {},
   "outputs": [
    {
     "data": {
      "text/plain": [
       "2947"
      ]
     },
     "execution_count": 29,
     "metadata": {},
     "output_type": "execute_result"
    }
   ],
   "source": [
    "len(test_report_ids)"
   ]
  },
  {
   "cell_type": "code",
   "execution_count": null,
   "metadata": {},
   "outputs": [
    {
     "data": {
      "text/plain": [
       "0"
      ]
     },
     "execution_count": 30,
     "metadata": {},
     "output_type": "execute_result"
    }
   ],
   "source": [
    "len(others_report_ids)"
   ]
  },
  {
   "cell_type": "code",
   "execution_count": null,
   "metadata": {},
   "outputs": [
    {
     "name": "stderr",
     "output_type": "stream",
     "text": [
      "368960it [10:32, 583.56it/s]\n",
      "2991it [00:00, 74480.74it/s]\n",
      "5159it [00:00, 36899.43it/s]\n"
     ]
    }
   ],
   "source": [
    "trainset = []\n",
    "valset = []\n",
    "testset = []\n",
    "not_in_trainset = []\n",
    "not_in_valset = []\n",
    "not_in_testset = []\n",
    "\n",
    "f = open('mimiccxr_train.csv', 'r')\n",
    "rdr = csv.reader(f)\n",
    "for i, line in enumerate(tqdm(rdr)):\n",
    "    dicom_id, subject_id, study_id, ViewPosition = line\n",
    "    if study_id in train_report_ids:\n",
    "        trainset.append(line)\n",
    "    else:\n",
    "        not_in_trainset.append(line)\n",
    "f.close()\n",
    "\n",
    "\n",
    "f = open('mimiccxr_validate.csv', 'r')\n",
    "rdr = csv.reader(f)\n",
    "for i, line in enumerate(tqdm(rdr)):\n",
    "    dicom_id, subject_id, study_id, ViewPosition = line\n",
    "    if study_id in val_report_ids:\n",
    "        valset.append(line)\n",
    "    else:\n",
    "        not_in_valset.append(line)\n",
    "f.close()\n",
    "\n",
    "\n",
    "f = open('mimiccxr_test.csv', 'r')\n",
    "rdr = csv.reader(f)\n",
    "for i, line in enumerate(tqdm(rdr)):\n",
    "    dicom_id, subject_id, study_id, ViewPosition = line\n",
    "    if study_id in test_report_ids:\n",
    "        testset.append(line)\n",
    "    else:\n",
    "        not_in_testset.append(line)\n",
    "f.close()"
   ]
  },
  {
   "cell_type": "code",
   "execution_count": null,
   "metadata": {},
   "outputs": [
    {
     "name": "stdout",
     "output_type": "stream",
     "text": [
      "354619\n",
      "14341\n",
      "2866\n",
      "125\n",
      "4710\n",
      "449\n"
     ]
    }
   ],
   "source": [
    "print(len(trainset))\n",
    "print(len(not_in_trainset))\n",
    "print(len(valset))\n",
    "print(len(not_in_valset))\n",
    "print(len(testset))\n",
    "print(len(not_in_testset))\n",
    "# 총 354619 + 2866 + 4710 = 362195개의 이미지가 살아남았고\n",
    "# 총 14341 + 125 + 449 = 14915개의 이미지가 제거됨."
   ]
  },
  {
   "cell_type": "code",
   "execution_count": null,
   "metadata": {},
   "outputs": [],
   "source": [
    "f = open('mimiccxr_train_sub.csv', 'w')\n",
    "wr = csv.writer(f)\n",
    "for rowlist in trainset:\n",
    "    wr.writerow(rowlist)\n",
    "f.close()"
   ]
  },
  {
   "cell_type": "code",
   "execution_count": null,
   "metadata": {},
   "outputs": [],
   "source": [
    "f = open('mimiccxr_validate_sub.csv', 'w')\n",
    "wr = csv.writer(f)\n",
    "for rowlist in valset:\n",
    "    wr.writerow(rowlist)\n",
    "f.close()"
   ]
  },
  {
   "cell_type": "code",
   "execution_count": null,
   "metadata": {},
   "outputs": [],
   "source": [
    "f = open('mimiccxr_test_sub.csv', 'w')\n",
    "wr = csv.writer(f)\n",
    "for rowlist in testset:\n",
    "    wr.writerow(rowlist)\n",
    "f.close()"
   ]
  },
  {
   "cell_type": "markdown",
   "metadata": {},
   "source": [
    "# 카운트 열 추가하기"
   ]
  },
  {
   "cell_type": "code",
   "execution_count": 1,
   "metadata": {},
   "outputs": [],
   "source": [
    "from pathlib import Path\n",
    "import csv\n",
    "from tqdm import tqdm\n",
    "from collections import Counter"
   ]
  },
  {
   "cell_type": "markdown",
   "metadata": {},
   "source": [
    "### Train"
   ]
  },
  {
   "cell_type": "code",
   "execution_count": 2,
   "metadata": {},
   "outputs": [
    {
     "name": "stderr",
     "output_type": "stream",
     "text": [
      "354619it [00:03, 90995.66it/s]\n"
     ]
    }
   ],
   "source": [
    "studyid_counter = Counter()\n",
    "f = open('mimiccxr_train_sub.csv', 'r')\n",
    "rdr = csv.reader(f)\n",
    "for i, line in enumerate(tqdm(rdr)):\n",
    "    dicom_id, subject_id, study_id, ViewPosition = line\n",
    "    studyid_counter.update([study_id])\n",
    "f.close()"
   ]
  },
  {
   "cell_type": "code",
   "execution_count": 3,
   "metadata": {},
   "outputs": [
    {
     "data": {
      "text/plain": [
       "212572"
      ]
     },
     "execution_count": 3,
     "metadata": {},
     "output_type": "execute_result"
    }
   ],
   "source": [
    "len(studyid_counter)"
   ]
  },
  {
   "cell_type": "code",
   "execution_count": 6,
   "metadata": {},
   "outputs": [
    {
     "name": "stdout",
     "output_type": "stream",
     "text": [
      "max: 11\n",
      "min: 1\n"
     ]
    }
   ],
   "source": [
    "print('max:', max(studyid_counter.values()))\n",
    "print('min:', min(studyid_counter.values()))"
   ]
  },
  {
   "cell_type": "code",
   "execution_count": 7,
   "metadata": {},
   "outputs": [],
   "source": [
    "from collections import defaultdict\n",
    "dict_by_count = defaultdict(list)\n",
    "for studyid, count in studyid_counter.items():\n",
    "    dict_by_count[count].append(studyid)\n"
   ]
  },
  {
   "cell_type": "code",
   "execution_count": 12,
   "metadata": {},
   "outputs": [
    {
     "name": "stdout",
     "output_type": "stream",
     "text": [
      "num of studies with 1 img: 93508\n",
      "num of studies with 2 img: 98403\n",
      "num of studies with 3 img: 18528\n",
      "num of studies with 4 img: 1998\n",
      "num of studies with 5 img: 97\n",
      "num of studies with 6 img: 31\n",
      "num of studies with 7 img: 2\n",
      "num of studies with 8 img: 3\n",
      "num of studies with 9 img: 1\n",
      "num of studies with 10 img: 0\n",
      "num of studies with 11 img: 1\n"
     ]
    }
   ],
   "source": [
    "print('num of studies with 1 img:', len(dict_by_count[1]))\n",
    "print('num of studies with 2 img:', len(dict_by_count[2]))\n",
    "print('num of studies with 3 img:', len(dict_by_count[3]))\n",
    "print('num of studies with 4 img:', len(dict_by_count[4]))\n",
    "print('num of studies with 5 img:', len(dict_by_count[5]))\n",
    "print('num of studies with 6 img:', len(dict_by_count[6]))\n",
    "print('num of studies with 7 img:', len(dict_by_count[7]))\n",
    "print('num of studies with 8 img:', len(dict_by_count[8]))\n",
    "print('num of studies with 9 img:', len(dict_by_count[9]))\n",
    "print('num of studies with 10 img:', len(dict_by_count[10]))\n",
    "print('num of studies with 11 img:', len(dict_by_count[11]))\n",
    "print('total:') # 212,572"
   ]
  },
  {
   "cell_type": "code",
   "execution_count": 34,
   "metadata": {},
   "outputs": [
    {
     "name": "stderr",
     "output_type": "stream",
     "text": [
      "354619it [00:01, 308067.65it/s]\n"
     ]
    }
   ],
   "source": [
    "f = open('mimiccxr_train_sub.csv', 'r')\n",
    "rdr = csv.reader(f)\n",
    "g = open('mimiccxr_train_sub_with_count.csv', 'w')\n",
    "wr = csv.writer(g)\n",
    "for i, line in enumerate(tqdm(rdr)):\n",
    "    dicom_id, subject_id, study_id, ViewPosition = line\n",
    "    new_line = line + [ studyid_counter[study_id] ]\n",
    "    wr.writerow(new_line)\n",
    "g.close()\n",
    "f.close()"
   ]
  },
  {
   "cell_type": "markdown",
   "metadata": {},
   "source": [
    "### val"
   ]
  },
  {
   "cell_type": "code",
   "execution_count": 36,
   "metadata": {},
   "outputs": [
    {
     "name": "stderr",
     "output_type": "stream",
     "text": [
      "2866it [00:00, 211018.42it/s]\n"
     ]
    }
   ],
   "source": [
    "studyid_counter = Counter()\n",
    "f = open('mimiccxr_validate_sub.csv', 'r')\n",
    "rdr = csv.reader(f)\n",
    "for i, line in enumerate(tqdm(rdr)):\n",
    "    dicom_id, subject_id, study_id, ViewPosition = line\n",
    "    studyid_counter.update([study_id])\n",
    "f.close()"
   ]
  },
  {
   "cell_type": "code",
   "execution_count": 37,
   "metadata": {},
   "outputs": [
    {
     "data": {
      "text/plain": [
       "1726"
      ]
     },
     "execution_count": 37,
     "metadata": {},
     "output_type": "execute_result"
    }
   ],
   "source": [
    "len(studyid_counter)"
   ]
  },
  {
   "cell_type": "code",
   "execution_count": 38,
   "metadata": {},
   "outputs": [
    {
     "name": "stdout",
     "output_type": "stream",
     "text": [
      "max: 4\n",
      "min: 1\n"
     ]
    }
   ],
   "source": [
    "print('max:', max(studyid_counter.values()))\n",
    "print('min:', min(studyid_counter.values()))"
   ]
  },
  {
   "cell_type": "code",
   "execution_count": 39,
   "metadata": {},
   "outputs": [],
   "source": [
    "from collections import defaultdict\n",
    "dict_by_count = defaultdict(list)\n",
    "for studyid, count in studyid_counter.items():\n",
    "    dict_by_count[count].append(studyid)"
   ]
  },
  {
   "cell_type": "code",
   "execution_count": 40,
   "metadata": {},
   "outputs": [
    {
     "name": "stdout",
     "output_type": "stream",
     "text": [
      "num of studies with 1 img: 791\n",
      "num of studies with 2 img: 749\n",
      "num of studies with 3 img: 167\n",
      "num of studies with 4 img: 19\n",
      "total:\n"
     ]
    }
   ],
   "source": [
    "print('num of studies with 1 img:', len(dict_by_count[1]))\n",
    "print('num of studies with 2 img:', len(dict_by_count[2]))\n",
    "print('num of studies with 3 img:', len(dict_by_count[3]))\n",
    "print('num of studies with 4 img:', len(dict_by_count[4]))\n",
    "print('total:') # 1,726"
   ]
  },
  {
   "cell_type": "code",
   "execution_count": 41,
   "metadata": {},
   "outputs": [
    {
     "name": "stderr",
     "output_type": "stream",
     "text": [
      "2866it [00:00, 109341.32it/s]\n"
     ]
    }
   ],
   "source": [
    "f = open('mimiccxr_validate_sub.csv', 'r')\n",
    "rdr = csv.reader(f)\n",
    "g = open('mimiccxr_validate_sub_with_count.csv', 'w')\n",
    "wr = csv.writer(g)\n",
    "for i, line in enumerate(tqdm(rdr)):\n",
    "    dicom_id, subject_id, study_id, ViewPosition = line\n",
    "    new_line = line + [ studyid_counter[study_id] ]\n",
    "    wr.writerow(new_line)\n",
    "g.close()\n",
    "f.close()"
   ]
  },
  {
   "cell_type": "markdown",
   "metadata": {},
   "source": [
    "### Test"
   ]
  },
  {
   "cell_type": "code",
   "execution_count": 42,
   "metadata": {},
   "outputs": [
    {
     "name": "stderr",
     "output_type": "stream",
     "text": [
      "4710it [00:00, 357288.07it/s]\n"
     ]
    }
   ],
   "source": [
    "studyid_counter = Counter()\n",
    "f = open('mimiccxr_test_sub.csv', 'r')\n",
    "rdr = csv.reader(f)\n",
    "for i, line in enumerate(tqdm(rdr)):\n",
    "    dicom_id, subject_id, study_id, ViewPosition = line\n",
    "    studyid_counter.update([study_id])\n",
    "f.close()"
   ]
  },
  {
   "cell_type": "code",
   "execution_count": 43,
   "metadata": {},
   "outputs": [
    {
     "data": {
      "text/plain": [
       "2947"
      ]
     },
     "execution_count": 43,
     "metadata": {},
     "output_type": "execute_result"
    }
   ],
   "source": [
    "len(studyid_counter)"
   ]
  },
  {
   "cell_type": "code",
   "execution_count": 44,
   "metadata": {},
   "outputs": [
    {
     "name": "stdout",
     "output_type": "stream",
     "text": [
      "max: 5\n",
      "min: 1\n"
     ]
    }
   ],
   "source": [
    "print('max:', max(studyid_counter.values()))\n",
    "print('min:', min(studyid_counter.values()))"
   ]
  },
  {
   "cell_type": "code",
   "execution_count": 45,
   "metadata": {},
   "outputs": [],
   "source": [
    "from collections import defaultdict\n",
    "dict_by_count = defaultdict(list)\n",
    "for studyid, count in studyid_counter.items():\n",
    "    dict_by_count[count].append(studyid)"
   ]
  },
  {
   "cell_type": "code",
   "execution_count": 46,
   "metadata": {},
   "outputs": [
    {
     "name": "stdout",
     "output_type": "stream",
     "text": [
      "num of studies with 1 img: 1525\n",
      "num of studies with 2 img: 1114\n",
      "num of studies with 3 img: 276\n",
      "num of studies with 4 img: 31\n",
      "num of studies with 5 img: 1\n",
      "total:\n"
     ]
    }
   ],
   "source": [
    "print('num of studies with 1 img:', len(dict_by_count[1]))\n",
    "print('num of studies with 2 img:', len(dict_by_count[2]))\n",
    "print('num of studies with 3 img:', len(dict_by_count[3]))\n",
    "print('num of studies with 4 img:', len(dict_by_count[4]))\n",
    "print('num of studies with 5 img:', len(dict_by_count[5]))\n",
    "print('total:') # 2,947"
   ]
  },
  {
   "cell_type": "code",
   "execution_count": 47,
   "metadata": {},
   "outputs": [
    {
     "name": "stderr",
     "output_type": "stream",
     "text": [
      "4710it [00:00, 262964.02it/s]\n"
     ]
    }
   ],
   "source": [
    "f = open('mimiccxr_test_sub.csv', 'r')\n",
    "rdr = csv.reader(f)\n",
    "g = open('mimiccxr_test_sub_with_count.csv', 'w')\n",
    "wr = csv.writer(g)\n",
    "for i, line in enumerate(tqdm(rdr)):\n",
    "    dicom_id, subject_id, study_id, ViewPosition = line\n",
    "    new_line = line + [ studyid_counter[study_id] ]\n",
    "    wr.writerow(new_line)\n",
    "g.close()\n",
    "f.close()"
   ]
  },
  {
   "cell_type": "markdown",
   "metadata": {},
   "source": [
    "# original csv에 count열 추가하기"
   ]
  },
  {
   "cell_type": "code",
   "execution_count": 1,
   "metadata": {},
   "outputs": [],
   "source": [
    "from pathlib import Path\n",
    "import csv\n",
    "from tqdm import tqdm\n",
    "from collections import Counter"
   ]
  },
  {
   "cell_type": "markdown",
   "metadata": {},
   "source": [
    "## Train"
   ]
  },
  {
   "cell_type": "code",
   "execution_count": 3,
   "metadata": {},
   "outputs": [
    {
     "name": "stderr",
     "output_type": "stream",
     "text": [
      "368960it [00:00, 451652.77it/s]\n"
     ]
    }
   ],
   "source": [
    "studyid_counter = Counter()\n",
    "f = open('mimiccxr_train.csv', 'r')\n",
    "rdr = csv.reader(f)\n",
    "for i, line in enumerate(tqdm(rdr)):\n",
    "    dicom_id, subject_id, study_id, ViewPosition = line\n",
    "    studyid_counter.update([study_id])\n",
    "f.close()"
   ]
  },
  {
   "cell_type": "code",
   "execution_count": 6,
   "metadata": {},
   "outputs": [
    {
     "name": "stderr",
     "output_type": "stream",
     "text": [
      "368960it [00:01, 325071.75it/s]\n"
     ]
    }
   ],
   "source": [
    "f = open('mimiccxr_train.csv', 'r')\n",
    "rdr = csv.reader(f)\n",
    "g = open('mimiccxr_train_with_count.csv', 'w')\n",
    "wr = csv.writer(g)\n",
    "for i, line in enumerate(tqdm(rdr)):\n",
    "    dicom_id, subject_id, study_id, ViewPosition = line\n",
    "    new_line = line + [ studyid_counter[study_id] ]\n",
    "    wr.writerow(new_line)\n",
    "g.close()\n",
    "f.close()"
   ]
  },
  {
   "cell_type": "markdown",
   "metadata": {},
   "source": [
    "## Val"
   ]
  },
  {
   "cell_type": "code",
   "execution_count": 7,
   "metadata": {},
   "outputs": [
    {
     "name": "stderr",
     "output_type": "stream",
     "text": [
      "2991it [00:00, 385755.77it/s]\n"
     ]
    }
   ],
   "source": [
    "studyid_counter = Counter()\n",
    "f = open('mimiccxr_validate.csv', 'r')\n",
    "rdr = csv.reader(f)\n",
    "for i, line in enumerate(tqdm(rdr)):\n",
    "    dicom_id, subject_id, study_id, ViewPosition = line\n",
    "    studyid_counter.update([study_id])\n",
    "f.close()"
   ]
  },
  {
   "cell_type": "code",
   "execution_count": 8,
   "metadata": {},
   "outputs": [
    {
     "name": "stderr",
     "output_type": "stream",
     "text": [
      "2991it [00:00, 327191.15it/s]\n"
     ]
    }
   ],
   "source": [
    "f = open('mimiccxr_validate.csv', 'r')\n",
    "rdr = csv.reader(f)\n",
    "g = open('mimiccxr_validate_with_count.csv', 'w')\n",
    "wr = csv.writer(g)\n",
    "for i, line in enumerate(tqdm(rdr)):\n",
    "    dicom_id, subject_id, study_id, ViewPosition = line\n",
    "    new_line = line + [ studyid_counter[study_id] ]\n",
    "    wr.writerow(new_line)\n",
    "g.close()\n",
    "f.close()"
   ]
  },
  {
   "cell_type": "markdown",
   "metadata": {},
   "source": [
    "## Test"
   ]
  },
  {
   "cell_type": "code",
   "execution_count": 9,
   "metadata": {},
   "outputs": [
    {
     "name": "stderr",
     "output_type": "stream",
     "text": [
      "5159it [00:00, 282899.47it/s]\n"
     ]
    }
   ],
   "source": [
    "studyid_counter = Counter()\n",
    "f = open('mimiccxr_test.csv', 'r')\n",
    "rdr = csv.reader(f)\n",
    "for i, line in enumerate(tqdm(rdr)):\n",
    "    dicom_id, subject_id, study_id, ViewPosition = line\n",
    "    studyid_counter.update([study_id])\n",
    "f.close()"
   ]
  },
  {
   "cell_type": "code",
   "execution_count": 10,
   "metadata": {},
   "outputs": [
    {
     "name": "stderr",
     "output_type": "stream",
     "text": [
      "5159it [00:00, 322614.72it/s]\n"
     ]
    }
   ],
   "source": [
    "f = open('mimiccxr_test.csv', 'r')\n",
    "rdr = csv.reader(f)\n",
    "g = open('mimiccxr_test_with_count.csv', 'w')\n",
    "wr = csv.writer(g)\n",
    "for i, line in enumerate(tqdm(rdr)):\n",
    "    dicom_id, subject_id, study_id, ViewPosition = line\n",
    "    new_line = line + [ studyid_counter[study_id] ]\n",
    "    wr.writerow(new_line)\n",
    "g.close()\n",
    "f.close()"
   ]
  }
 ],
 "metadata": {
  "interpreter": {
   "hash": "003ebc954f4e4337eacc31d962c11c22edc103fba8027d5d52b90e69ce733dc1"
  },
  "kernelspec": {
   "display_name": "Python 3.8.10 64-bit ('performer': conda)",
   "name": "python3"
  },
  "language_info": {
   "codemirror_mode": {
    "name": "ipython",
    "version": 3
   },
   "file_extension": ".py",
   "mimetype": "text/x-python",
   "name": "python",
   "nbconvert_exporter": "python",
   "pygments_lexer": "ipython3",
   "version": "3.8.10"
  },
  "orig_nbformat": 4
 },
 "nbformat": 4,
 "nbformat_minor": 2
}
