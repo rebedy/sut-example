{
 "cells": [
  {
   "cell_type": "code",
   "execution_count": 16,
   "source": [
    "from pathlib import Path\n",
    "import json\n",
    "import csv"
   ],
   "outputs": [],
   "metadata": {}
  },
  {
   "cell_type": "code",
   "execution_count": 15,
   "source": [
    "INPUT_PATH = Path('/home/edlab/wcshin/performer_cxr_i2t/i2t_base/checkpoints/epoch=000008_best_val_bleu_0.299_0.178_0.113_0.078_top_p_thres_0.9_tempr_0.7.json')\n",
    "GT_OUTPUT_PATH = 'GT_' + INPUT_PATH.stem + '.csv'\n",
    "GEN_OUTPUT_PATH = 'GEN_' + INPUT_PATH.stem + '.csv'"
   ],
   "outputs": [],
   "metadata": {}
  },
  {
   "cell_type": "code",
   "execution_count": 10,
   "source": [
    "with open(INPUT_PATH, 'r') as f:\n",
    "    data = json.load(f)"
   ],
   "outputs": [],
   "metadata": {}
  },
  {
   "cell_type": "code",
   "execution_count": 17,
   "source": [
    "f_gt = open(GT_OUTPUT_PATH, 'w')\n",
    "wr_gt = csv.writer(f_gt)\n",
    "\n",
    "f_gen = open(GEN_OUTPUT_PATH, 'w')\n",
    "wr_gen = csv.writer(f_gen)\n",
    "\n",
    "for study_id in data.keys():\n",
    "    wr_gt.writerow(\n",
    "        [data[study_id]['GT_text']]\n",
    "    )\n",
    "    wr_gen.writerow(\n",
    "        [data[study_id]['gen_text']]\n",
    "    )\n",
    "\n",
    "f_gt.close()\n",
    "f_gen.close()\n",
    "\n",
    "    "
   ],
   "outputs": [],
   "metadata": {}
  },
  {
   "cell_type": "code",
   "execution_count": null,
   "source": [],
   "outputs": [],
   "metadata": {}
  }
 ],
 "metadata": {
  "orig_nbformat": 4,
  "language_info": {
   "name": "python",
   "version": "3.8.10",
   "mimetype": "text/x-python",
   "codemirror_mode": {
    "name": "ipython",
    "version": 3
   },
   "pygments_lexer": "ipython3",
   "nbconvert_exporter": "python",
   "file_extension": ".py"
  },
  "kernelspec": {
   "name": "python3",
   "display_name": "Python 3.8.10 64-bit ('performer': conda)"
  },
  "interpreter": {
   "hash": "003ebc954f4e4337eacc31d962c11c22edc103fba8027d5d52b90e69ce733dc1"
  }
 },
 "nbformat": 4,
 "nbformat_minor": 2
}